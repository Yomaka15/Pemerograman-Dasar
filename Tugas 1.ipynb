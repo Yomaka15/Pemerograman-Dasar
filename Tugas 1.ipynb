{
  "nbformat": 4,
  "nbformat_minor": 0,
  "metadata": {
    "colab": {
      "provenance": [],
      "authorship_tag": "ABX9TyOeb3/l8/AhJDTC3Spqsd/7",
      "include_colab_link": true
    },
    "kernelspec": {
      "name": "python3",
      "display_name": "Python 3"
    },
    "language_info": {
      "name": "python"
    }
  },
  "cells": [
    {
      "cell_type": "markdown",
      "metadata": {
        "id": "view-in-github",
        "colab_type": "text"
      },
      "source": [
        "<a href=\"https://colab.research.google.com/github/Yomaka15/Pemerograman-Dasar/blob/main/Tugas%201.ipynb\" target=\"_parent\"><img src=\"https://colab.research.google.com/assets/colab-badge.svg\" alt=\"Open In Colab\"/></a>"
      ]
    },
    {
      "cell_type": "code",
      "execution_count": 3,
      "metadata": {
        "colab": {
          "base_uri": "https://localhost:8080/"
        },
        "id": "l-9TumWpeeoR",
        "outputId": "664f16d2-5981-4243-c4d5-b8df3e56d07c"
      },
      "outputs": [
        {
          "output_type": "stream",
          "name": "stdout",
          "text": [
            "=== Biodata Mahasiswa ===\n",
            "Nama           : Bima\n",
            "tempat lahir   : Batam\n",
            "tanggal lahir  : (2005, 12, 15)\n",
            "Umur           : 19\n",
            "Jurusan        : Teknik Elektro\n",
            "prodi          : Teknologi Rekayasa Pembangkit Energi\n",
            "Semester       : 3\n",
            "Mata Kuliah    : Pemrograman Dasar\n",
            "Nomor Telepon  : 082413816102\n",
            "Status Lulus   : False\n",
            "\n",
            "=== Tipe Data Masing-masing Variabel ===\n",
            "Tipe data nama        : <class 'str'>\n",
            "Tipe data umur        : <class 'int'>\n",
            "Tipe data tempat lahir: <class 'str'>\n",
            "Tipe data tanggal lahir: <class 'tuple'>\n",
            "Tipe data jurusan     : <class 'str'>\n",
            "Tipe data prodi    : <class 'str'>\n",
            "Tipe data semester    : <class 'int'>\n",
            "Tipe data matakuliah  : <class 'str'>\n",
            "Tipe data nomor telepon  : <class 'str'>\n",
            "Tipe data status_lulus: <class 'bool'>\n"
          ]
        }
      ],
      "source": [
        "# ===============================\n",
        "# Praktikum Pemrograman Dasar\n",
        "# Google Colab Notebook\n",
        "# ===============================\n",
        "\n",
        "# 1. Definisi Variabel\n",
        "nama = \"Bima\"\n",
        "umur = 19\n",
        "tempat_lahir = \"Batam\"\n",
        "tanggal_lahir = (2005, 12, 15)  # Tahun, Bulan, Hari\n",
        "jurusan = \"Teknik Elektro\"\n",
        "prodi = \"Teknologi Rekayasa Pembangkit Energi\"\n",
        "semester = 3\n",
        "matakuliah = \"Pemrograman Dasar\"\n",
        "nomor_telepon = \"082413816102\"\n",
        "status_lulus = False\n",
        "# 2. Menampilkan Data\n",
        "print(\"=== Biodata Mahasiswa ===\")\n",
        "print(\"Nama           :\", nama)\n",
        "print(\"tempat lahir   :\", tempat_lahir)\n",
        "print(\"tanggal lahir  :\", tanggal_lahir)\n",
        "print(\"Umur           :\", umur)\n",
        "print(\"Jurusan        :\", jurusan)\n",
        "print(\"prodi          :\", prodi)\n",
        "print(\"Semester       :\", semester)\n",
        "print(\"Mata Kuliah    :\", matakuliah)\n",
        "print(\"Nomor Telepon  :\", nomor_telepon)\n",
        "print(\"Status Lulus   :\", status_lulus)\n",
        "\n",
        "# 3. Menampilkan Jenis Tipe Data\n",
        "print(\"\\n=== Tipe Data Masing-masing Variabel ===\")\n",
        "print(\"Tipe data nama        :\", type(nama))\n",
        "print(\"Tipe data umur        :\", type(umur))\n",
        "print(\"Tipe data tempat lahir:\", type(tempat_lahir))\n",
        "print(\"Tipe data tanggal lahir:\", type(tanggal_lahir))\n",
        "print(\"Tipe data jurusan     :\", type(jurusan))\n",
        "print(\"Tipe data prodi    :\", type(prodi))\n",
        "print(\"Tipe data semester    :\", type(semester))\n",
        "print(\"Tipe data matakuliah  :\", type(matakuliah))\n",
        "print(\"Tipe data nomor telepon  :\", type(nomor_telepon))\n",
        "print(\"Tipe data status_lulus:\", type(status_lulus))"
      ]
    }
  ]
}