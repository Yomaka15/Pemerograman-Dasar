{
  "nbformat": 4,
  "nbformat_minor": 0,
  "metadata": {
    "colab": {
      "provenance": [],
      "authorship_tag": "ABX9TyOGXnK/RJhQqO8lWMo1DGyl",
      "include_colab_link": true
    },
    "kernelspec": {
      "name": "python3",
      "display_name": "Python 3"
    },
    "language_info": {
      "name": "python"
    }
  },
  "cells": [
    {
      "cell_type": "markdown",
      "metadata": {
        "id": "view-in-github",
        "colab_type": "text"
      },
      "source": [
        "<a href=\"https://colab.research.google.com/github/Yomaka15/Pemerograman-Dasar/blob/main/LATIHAN_3.ipynb\" target=\"_parent\"><img src=\"https://colab.research.google.com/assets/colab-badge.svg\" alt=\"Open In Colab\"/></a>"
      ]
    },
    {
      "cell_type": "code",
      "execution_count": 1,
      "metadata": {
        "colab": {
          "base_uri": "https://localhost:8080/"
        },
        "id": "j_FzILHv9NoK",
        "outputId": "cf933414-db2a-46f1-ade3-382cf7c21de7"
      },
      "outputs": [
        {
          "output_type": "stream",
          "name": "stdout",
          "text": [
            "Masukkan tahun: 2025\n",
            "2025 BUKAN tahun kabisat\n"
          ]
        }
      ],
      "source": [
        "# Latihan 1\n",
        "\n",
        "# Program Menentukan Tahun Kabisat (tanpa if)\n",
        "\n",
        "tahun = int(input(\"Masukkan tahun: \"))\n",
        "\n",
        "print({\n",
        "    True: f\"{tahun} adalah tahun KABISAT\",\n",
        "    False: f\"{tahun} BUKAN tahun kabisat\"\n",
        "}[(tahun % 4 == 0 and tahun % 100 != 0) or (tahun % 400 == 0)])\n"
      ]
    },
    {
      "cell_type": "code",
      "source": [
        "# Latihan 2\n",
        "\n",
        "# Input pertama\n",
        "x = float(input(\"angka pertama: \"))\n",
        "# Input kedua\n",
        "y = float(input(\"angka kedua: \"))\n",
        "\n",
        "# Operasi Aritmatika dan Output langsung\n",
        "print(f\"\\nHasil operasi aritmatika dengan x = {x} dan y = {y}:\")\n",
        "print(f\"x + y = {x + y}\")   # Penjumlahan\n",
        "print(f\"x - y = {x - y}\")   # Pengurangan\n",
        "print(f\"x * y = {x * y}\")   # Perkalian\n",
        "print(f\"x / y = {x / y}\")   # Pembagian"
      ],
      "metadata": {
        "colab": {
          "base_uri": "https://localhost:8080/"
        },
        "id": "NVexSjTW9a25",
        "outputId": "df4d8be6-7bff-498a-a924-bcde76167938"
      },
      "execution_count": 3,
      "outputs": [
        {
          "output_type": "stream",
          "name": "stdout",
          "text": [
            "angka pertama: 20\n",
            "angka kedua: 4\n",
            "\n",
            "Hasil operasi aritmatika dengan x = 20.0 dan y = 4.0:\n",
            "x + y = 24.0\n",
            "x - y = 16.0\n",
            "x * y = 80.0\n",
            "x / y = 5.0\n"
          ]
        }
      ]
    }
  ]
}