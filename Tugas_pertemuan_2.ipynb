{
  "nbformat": 4,
  "nbformat_minor": 0,
  "metadata": {
    "colab": {
      "provenance": [],
      "authorship_tag": "ABX9TyMlptvxTRdybvzIqBiwujsY",
      "include_colab_link": true
    },
    "kernelspec": {
      "name": "python3",
      "display_name": "Python 3"
    },
    "language_info": {
      "name": "python"
    }
  },
  "cells": [
    {
      "cell_type": "markdown",
      "metadata": {
        "id": "view-in-github",
        "colab_type": "text"
      },
      "source": [
        "<a href=\"https://colab.research.google.com/github/Yomaka15/Pemerograman-Dasar/blob/main/Tugas_pertemuan_2.ipynb\" target=\"_parent\"><img src=\"https://colab.research.google.com/assets/colab-badge.svg\" alt=\"Open In Colab\"/></a>"
      ]
    },
    {
      "cell_type": "code",
      "execution_count": null,
      "metadata": {
        "colab": {
          "base_uri": "https://localhost:8080/"
        },
        "id": "8tv3VS8NYW9P",
        "outputId": "5928b27f-4944-4e12-dfad-76c378bef37b"
      },
      "outputs": [
        {
          "output_type": "stream",
          "name": "stdout",
          "text": [
            "---(List)---\n",
            "Bima\n",
            "19\n",
            "RPE\n",
            "3\n",
            "Pemerograman Dasar\n",
            "False\n",
            "\n",
            "---(tuple)---\n",
            "Bima\n",
            "19\n",
            "RPE\n",
            "3\n",
            "Pemerograman Dasar\n",
            "False\n",
            "\n",
            "---(set)---\n",
            "{False, 3, 'Bima', 19, 'RPE', 'Pemerograman Dasar'}\n",
            "\n",
            "---(dictionary)---\n",
            "{'nama': 'Bima', 'umur': 19, 'jurusan': 'RPE', 'semester': 3, 'matakuliah': 'Pemerograman Dasar', 'status_lulus': False}\n"
          ]
        }
      ],
      "source": [
        "# Biodata Saya\n",
        "\n",
        "nama = \"Bima\"\n",
        "umur = 19\n",
        "jurusan = \"RPE\"\n",
        "semester = 3\n",
        "matakuliah = 'Pemerograman Dasar'\n",
        "status_lulus = False\n",
        "\n",
        "Biodata_list = [nama, umur, jurusan, semester, matakuliah, status_lulus]\n",
        "\n",
        "print(\"---(List)---\")\n",
        "print(Biodata_list[0])\n",
        "print(Biodata_list[1])\n",
        "print(Biodata_list[2])\n",
        "print(Biodata_list[3])\n",
        "print(Biodata_list[4])\n",
        "print(Biodata_list[5])\n",
        "print()\n",
        "\n",
        "# tuple\n",
        "biodata_tuple = (nama, umur, jurusan, semester, matakuliah, status_lulus)\n",
        "\n",
        "print(\"---(tuple)---\")\n",
        "print(biodata_tuple[0])\n",
        "print(biodata_tuple[1])\n",
        "print(biodata_tuple[2])\n",
        "print(biodata_tuple[3])\n",
        "print(biodata_tuple[4])\n",
        "print(biodata_tuple[5])\n",
        "print()\n",
        "\n",
        "# set\n",
        "biodata_set = {nama, umur, jurusan, semester, matakuliah, status_lulus}\n",
        "\n",
        "print(\"---(set)---\")\n",
        "print(biodata_set)\n",
        "print()\n",
        "\n",
        "# dictionary\n",
        "biodata_dictionary = {\n",
        "    \"nama\": nama,\n",
        "    \"umur\": umur,\n",
        "    \"jurusan\": jurusan,\n",
        "    \"semester\": semester,\n",
        "    \"matakuliah\": matakuliah,\n",
        "    \"status_lulus\": status_lulus\n",
        "}\n",
        "print(\"---(dictionary)---\")\n",
        "print(biodata_dictionary)\n",
        "\n"
      ]
    },
    {
      "cell_type": "code",
      "source": [],
      "metadata": {
        "id": "p95mrnMQZ8Ya"
      },
      "execution_count": null,
      "outputs": []
    }
  ]
}