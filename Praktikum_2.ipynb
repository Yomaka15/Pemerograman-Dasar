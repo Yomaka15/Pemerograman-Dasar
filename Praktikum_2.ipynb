{
  "nbformat": 4,
  "nbformat_minor": 0,
  "metadata": {
    "colab": {
      "provenance": [],
      "authorship_tag": "ABX9TyPA8bzk5AwOLKcEMjyiDXhS",
      "include_colab_link": true
    },
    "kernelspec": {
      "name": "python3",
      "display_name": "Python 3"
    },
    "language_info": {
      "name": "python"
    }
  },
  "cells": [
    {
      "cell_type": "markdown",
      "metadata": {
        "id": "view-in-github",
        "colab_type": "text"
      },
      "source": [
        "<a href=\"https://colab.research.google.com/github/Yomaka15/Pemerograman-Dasar/blob/main/Praktikum_2.ipynb\" target=\"_parent\"><img src=\"https://colab.research.google.com/assets/colab-badge.svg\" alt=\"Open In Colab\"/></a>"
      ]
    },
    {
      "cell_type": "code",
      "source": [
        "# deklarasi variabel list\n",
        "numbers = [23, 43, 15, 34]\n",
        "\n",
        "# cara mengakses elemen dalam variabel list\n",
        "print(\"Elemen pertama :\", numbers [0])  # 23\n",
        "print(\"Elemen kedua   :\", numbers [1])  # 43\n",
        "print(\"Elemen ketiga  :\", numbers [2])  # 15\n",
        "print(\"Elemen keempat :\", numbers [3])  # 34\n",
        "\n",
        "# Mengubah nilai elemen dalam list\n",
        "numbers[2] = 51 # mengubah elemen indeks ke-2\n",
        "print(\"setelah diubah\", numbers) # [23, 43, 51, 34]"
      ],
      "metadata": {
        "colab": {
          "base_uri": "https://localhost:8080/"
        },
        "id": "kXLGg4PstolC",
        "outputId": "86425c65-b408-476f-ffee-0817f7967b48"
      },
      "execution_count": 12,
      "outputs": [
        {
          "output_type": "stream",
          "name": "stdout",
          "text": [
            "Elemen pertama : 23\n",
            "Elemen kedua   : 43\n",
            "Elemen ketiga  : 15\n",
            "Elemen keempat : 34\n",
            "setelah diubah [23, 43, 51, 34]\n"
          ]
        }
      ]
    },
    {
      "cell_type": "code",
      "source": [
        "# ------------------------------\n",
        "# Program: List dengan berbagai tipe data\n",
        "# ------------------------------\n",
        "\n",
        "# Deklarasi variabel list\n",
        "myList = [1, \"Rumah\", 4.5, True, [\"Kamar mandi\", \"Kamar tidur\"]]\n",
        "\n",
        "# Cara mengakses elemen dalam variabel list\n",
        "print(\"Elemen ke-1 :\", myList[0])   # 1\n",
        "print(\"Elemen ke-2 :\", myList[1])   # \"Rumah\"\n",
        "print(\"Elemen ke-4 :\", myList[3])   # True\n",
        "print(\"Elemen ke-5 :\", myList[4])   # [\"Kamar mandi\", \"Kamar tidur\"]\n",
        "\n",
        "# Cara mengakses elemen dalam sublist\n",
        "print(\"Sublist elemen pertama :\", myList[4][0])  # \"Kamar mandi\"\n",
        "print(\"Sublist elemen kedua   :\", myList[4][1])  # \"Kamar tidur\""
      ],
      "metadata": {
        "colab": {
          "base_uri": "https://localhost:8080/"
        },
        "id": "jzzeKdKbyO-x",
        "outputId": "2bbb8724-edbd-4148-a99d-506ae58e8525"
      },
      "execution_count": 14,
      "outputs": [
        {
          "output_type": "stream",
          "name": "stdout",
          "text": [
            "Elemen ke-1 : 1\n",
            "Elemen ke-2 : Rumah\n",
            "Elemen ke-4 : True\n",
            "Elemen ke-5 : ['Kamar mandi', 'Kamar tidur']\n",
            "Sublist elemen pertama : Kamar mandi\n",
            "Sublist elemen kedua   : Kamar tidur\n"
          ]
        }
      ]
    },
    {
      "cell_type": "code",
      "source": [
        "# ------------------------------\n",
        "# Program: List dengan berbagai tipe data dan sublist\n",
        "# ------------------------------\n",
        "\n",
        "# Deklarasi variabel list\n",
        "myList = [1, \"Rumah\", 4.5, True, [\"Kamar mandi\", \"Kamar tidur\"]]\n",
        "\n",
        "# Cara mengakses elemen dalam variabel list\n",
        "print(\"Elemen ke-1 :\", myList[0])   # 1\n",
        "print(\"Elemen ke-2 :\", myList[1])   # \"Rumah\"\n",
        "print(\"Elemen ke-4 :\", myList[3])   # True\n",
        "print(\"Elemen ke-5 :\", myList[4])   # [\"Kamar mandi\", \"Kamar tidur\"]\n",
        "\n",
        "# Cara mengakses elemen dalam sublist\n",
        "print(\"Sublist elemen pertama :\", myList[4][0])  # \"Kamar mandi\"\n",
        "print(\"Sublist elemen kedua   :\", myList[4][1])  # \"Kamar tidur\""
      ],
      "metadata": {
        "colab": {
          "base_uri": "https://localhost:8080/"
        },
        "id": "r-DQyXzR0G5X",
        "outputId": "31428e83-f5b0-4a47-b197-56fa40223100"
      },
      "execution_count": 15,
      "outputs": [
        {
          "output_type": "stream",
          "name": "stdout",
          "text": [
            "Elemen ke-1 : 1\n",
            "Elemen ke-2 : Rumah\n",
            "Elemen ke-4 : True\n",
            "Elemen ke-5 : ['Kamar mandi', 'Kamar tidur']\n",
            "Sublist elemen pertama : Kamar mandi\n",
            "Sublist elemen kedua   : Kamar tidur\n"
          ]
        }
      ]
    },
    {
      "cell_type": "code",
      "source": [
        "# Deklarasi variabel tuple\n",
        "numbers = (23, 43, 15, 34)\n",
        "\n",
        "# Cara mengakses elemen dalam variabel tuple\n",
        "print(\"Elemen pertama :\", numbers[0])  # 23\n",
        "print(\"Elemen kedua   :\", numbers[1])  # 43\n",
        "print(\"Elemen ketiga  :\", numbers[2])  # 15\n",
        "print(\"Elemen keempat :\", numbers[3])  # 34"
      ],
      "metadata": {
        "colab": {
          "base_uri": "https://localhost:8080/"
        },
        "id": "f3odOScU1Rhg",
        "outputId": "024bf7e3-8f2d-445c-da4e-90b6ccd9df58"
      },
      "execution_count": 16,
      "outputs": [
        {
          "output_type": "stream",
          "name": "stdout",
          "text": [
            "Elemen pertama : 23\n",
            "Elemen kedua   : 43\n",
            "Elemen ketiga  : 15\n",
            "Elemen keempat : 34\n"
          ]
        }
      ]
    },
    {
      "cell_type": "code",
      "source": [
        "# ------------------------------\n",
        "# Program: Operasi pada Set\n",
        "# ------------------------------\n",
        "\n",
        "# Deklarasi variabel set a dan b\n",
        "a = {1, 2, 3}\n",
        "b = {2, 3, 4}\n",
        "\n",
        "print(\"Set a:\", a)\n",
        "print(\"Set b:\", b)\n",
        "\n",
        "# Operasi gabungan (union)\n",
        "print(\"\\nGabungan a ∪ b:\", a.union(b))\n",
        "# Hasil: {1, 2, 3, 4}\n",
        "\n",
        "# Operasi irisan (intersection)\n",
        "print(\"Irisan a ∩ b:\", a.intersection(b))\n",
        "# Hasil: {2, 3}\n",
        "\n",
        "# Operasi perbedaan simetris (symmetric difference)\n",
        "print(\"Perbedaan simetris a △ b:\", a.symmetric_difference(b))\n",
        "# Hasil: {1, 4}"
      ],
      "metadata": {
        "colab": {
          "base_uri": "https://localhost:8080/"
        },
        "id": "d5sqnc252WS5",
        "outputId": "f1c01ddb-0cb6-474e-ecf4-24b46d0bf743"
      },
      "execution_count": 17,
      "outputs": [
        {
          "output_type": "stream",
          "name": "stdout",
          "text": [
            "Set a: {1, 2, 3}\n",
            "Set b: {2, 3, 4}\n",
            "\n",
            "Gabungan a ∪ b: {1, 2, 3, 4}\n",
            "Irisan a ∩ b: {2, 3}\n",
            "Perbedaan simetris a △ b: {1, 4}\n"
          ]
        }
      ]
    },
    {
      "cell_type": "code",
      "source": [
        "# ------------------------------\n",
        "# Program: Tipe Data Dictionary\n",
        "# ------------------------------\n",
        "\n",
        "# Deklarasi variabel dictionary\n",
        "propertyDetail = {\n",
        "    \"numFloors\": 1,\n",
        "    \"propertyType\": \"Rumah\",\n",
        "    \"hasTerrace\": True,\n",
        "    \"hasGarage\": False\n",
        "}\n",
        "\n",
        "# Cara mengakses elemen dalam dictionary\n",
        "print(\"Jumlah lantai   :\", propertyDetail[\"numFloors\"])     # 1\n",
        "print(\"Tipe properti   :\", propertyDetail[\"propertyType\"])  # Rumah\n",
        "print(\"Ada teras?      :\", propertyDetail[\"hasTerrace\"])    # True\n",
        "print(\"Ada garasi?     :\", propertyDetail[\"hasGarage\"])     # False\n",
        "\n",
        "# Cara mengubah nilai elemen dalam dictionary\n",
        "propertyDetail[\"hasTerrace\"] = False\n",
        "\n",
        "print(\"\\nSetelah diubah:\")\n",
        "print(\"Ada teras?      :\", propertyDetail[\"hasTerrace\"])    # False"
      ],
      "metadata": {
        "colab": {
          "base_uri": "https://localhost:8080/"
        },
        "id": "uWb76XQl23uS",
        "outputId": "40c5ed48-4344-4706-a514-95b4ce090b4e"
      },
      "execution_count": 18,
      "outputs": [
        {
          "output_type": "stream",
          "name": "stdout",
          "text": [
            "Jumlah lantai   : 1\n",
            "Tipe properti   : Rumah\n",
            "Ada teras?      : True\n",
            "Ada garasi?     : False\n",
            "\n",
            "Setelah diubah:\n",
            "Ada teras?      : False\n"
          ]
        }
      ]
    }
  ]
}