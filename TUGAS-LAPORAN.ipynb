{
  "nbformat": 4,
  "nbformat_minor": 0,
  "metadata": {
    "colab": {
      "provenance": [],
      "authorship_tag": "ABX9TyP42H0VRHohOCCtbHAspSmj",
      "include_colab_link": true
    },
    "kernelspec": {
      "name": "python3",
      "display_name": "Python 3"
    },
    "language_info": {
      "name": "python"
    }
  },
  "cells": [
    {
      "cell_type": "markdown",
      "metadata": {
        "id": "view-in-github",
        "colab_type": "text"
      },
      "source": [
        "<a href=\"https://colab.research.google.com/github/Yomaka15/Pemerograman-Dasar/blob/main/TUGAS-LAPORAN.ipynb\" target=\"_parent\"><img src=\"https://colab.research.google.com/assets/colab-badge.svg\" alt=\"Open In Colab\"/></a>"
      ]
    },
    {
      "cell_type": "code",
      "execution_count": 4,
      "metadata": {
        "colab": {
          "base_uri": "https://localhost:8080/"
        },
        "id": "l-9TumWpeeoR",
        "outputId": "16db306a-8704-4093-9366-91e1d1c55b58"
      },
      "outputs": [
        {
          "output_type": "stream",
          "name": "stdout",
          "text": [
            "=== Biodata Mahasiswa ===\n",
            "Nama           : Yosabad Bima Duka\n",
            "NIM            : 4232401020\n",
            "Umur           : 19\n",
            "Tempat lahir   : Batam\n",
            "Tanggal lahir  : (2005, 12, 15)\n",
            "Jurusan        : Teknik Elektro\n",
            "Prodi          : Teknologi Rekayasa Pembangkit Energi\n",
            "Semester       : 3\n",
            "Mata Kuliah    : Pemrograman Dasar\n",
            "Nomor Telepon  : 082413816102\n",
            "Status Lulus   : False\n",
            "\n",
            "=== Tipe Data Masing-masing Variabel ===\n",
            "Tipe data nama        : <class 'str'>\n",
            "Tipe data nim        : <class 'str'>\n",
            "Tipe data umur        : <class 'int'>\n",
            "Tipe data tempat lahir: <class 'str'>\n",
            "Tipe data tanggal lahir: <class 'tuple'>\n",
            "Tipe data jurusan     : <class 'str'>\n",
            "Tipe data prodi    : <class 'str'>\n",
            "Tipe data semester    : <class 'int'>\n",
            "Tipe data matakuliah  : <class 'str'>\n",
            "Tipe data nomor telepon  : <class 'str'>\n",
            "Tipe data status_lulus: <class 'bool'>\n"
          ]
        }
      ],
      "source": [
        "# ===============================\n",
        "# Praktikum Pemrograman Dasar\n",
        "# Google Colab Notebook\n",
        "# ===============================\n",
        "\n",
        "# 1. Definisi Variabel\n",
        "nama = \"Yosabad Bima Duka\"\n",
        "nim = \"4232401020\"\n",
        "umur = 19\n",
        "tempat_lahir = \"Batam\"\n",
        "tanggal_lahir = (2005, 12, 15)  # Tahun, Bulan, Hari\n",
        "jurusan = \"Teknik Elektro\"\n",
        "prodi = \"Teknologi Rekayasa Pembangkit Energi\"\n",
        "semester = 3\n",
        "matakuliah = \"Pemrograman Dasar\"\n",
        "nomor_telepon = \"082413816102\"\n",
        "status_lulus = False\n",
        "# 2. Menampilkan Data\n",
        "print(\"=== Biodata Mahasiswa ===\")\n",
        "print(\"Nama           :\", nama)\n",
        "print(\"NIM            :\", nim)\n",
        "print(\"Umur           :\", umur)\n",
        "print(\"Tempat lahir   :\", tempat_lahir)\n",
        "print(\"Tanggal lahir  :\", tanggal_lahir)\n",
        "print(\"Jurusan        :\", jurusan)\n",
        "print(\"Prodi          :\", prodi)\n",
        "print(\"Semester       :\", semester)\n",
        "print(\"Mata Kuliah    :\", matakuliah)\n",
        "print(\"Nomor Telepon  :\", nomor_telepon)\n",
        "print(\"Status Lulus   :\", status_lulus)\n",
        "\n",
        "# 3. Menampilkan Jenis Tipe Data\n",
        "print(\"\\n=== Tipe Data Masing-masing Variabel ===\")\n",
        "print(\"Tipe data nama        :\", type(nama))\n",
        "print(\"Tipe data nim        :\", type(nim))\n",
        "print(\"Tipe data umur        :\", type(umur))\n",
        "print(\"Tipe data tempat lahir:\", type(tempat_lahir))\n",
        "print(\"Tipe data tanggal lahir:\", type(tanggal_lahir))\n",
        "print(\"Tipe data jurusan     :\", type(jurusan))\n",
        "print(\"Tipe data prodi    :\", type(prodi))\n",
        "print(\"Tipe data semester    :\", type(semester))\n",
        "print(\"Tipe data matakuliah  :\", type(matakuliah))\n",
        "print(\"Tipe data nomor telepon  :\", type(nomor_telepon))\n",
        "print(\"Tipe data status_lulus:\", type(status_lulus))"
      ]
    }
  ]
}