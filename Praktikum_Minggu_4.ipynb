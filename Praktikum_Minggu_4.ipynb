{
  "nbformat": 4,
  "nbformat_minor": 0,
  "metadata": {
    "colab": {
      "provenance": [],
      "authorship_tag": "ABX9TyMT+LnLPN23dqDgQAkjG1jS",
      "include_colab_link": true
    },
    "kernelspec": {
      "name": "python3",
      "display_name": "Python 3"
    },
    "language_info": {
      "name": "python"
    }
  },
  "cells": [
    {
      "cell_type": "markdown",
      "metadata": {
        "id": "view-in-github",
        "colab_type": "text"
      },
      "source": [
        "<a href=\"https://colab.research.google.com/github/Yomaka15/Pemerograman-Dasar/blob/main/Praktikum_Minggu_4.ipynb\" target=\"_parent\"><img src=\"https://colab.research.google.com/assets/colab-badge.svg\" alt=\"Open In Colab\"/></a>"
      ]
    },
    {
      "cell_type": "code",
      "execution_count": 5,
      "metadata": {
        "colab": {
          "base_uri": "https://localhost:8080/"
        },
        "id": "DgpB-65kvsdZ",
        "outputId": "c86d1755-2694-4f25-aabc-e7ffb974c3af"
      },
      "outputs": [
        {
          "output_type": "stream",
          "name": "stdout",
          "text": [
            "Masukkan umur Anda: 15\n",
            "Pengunjung adalah anak-anak.\n"
          ]
        }
      ],
      "source": [
        "# Praktikum if soal 1\n",
        "\n",
        "# Variabel untuk menyimpan umur pengunjung\n",
        "umur_str = input(\"Masukkan umur Anda: \")  # Meminta input dalam bentuk string\n",
        "umur = int(umur_str)  # Mengubah input menjadi integer\n",
        "\n",
        "# Program hanya akan mencetak pesan jika umur di atas 17\n",
        "if umur > 17:\n",
        "    print(\"Pengunjung adalah orang dewasa.\")\n",
        "\n",
        "else :\n",
        "    print(\"Pengunjung adalah anak-anak.\")\n",
        "\n"
      ]
    },
    {
      "cell_type": "code",
      "source": [
        "# Praktikum if soal 2\n",
        "\n",
        "username = input(\"Masukkan username: \")\n",
        "password = input(\"Masukkan password: \")\n",
        "\n",
        "if username == \"BIMBOT\" and password == \"Yomaka1208\":\n",
        "    print(\"Login berhasil\")\n",
        "else:\n",
        "    print(\"Login gagal\")\n"
      ],
      "metadata": {
        "colab": {
          "base_uri": "https://localhost:8080/"
        },
        "id": "j4gcYPV3zPL9",
        "outputId": "e8455a94-977d-4624-eca4-de60110e9a36"
      },
      "execution_count": 9,
      "outputs": [
        {
          "output_type": "stream",
          "name": "stdout",
          "text": [
            "Masukkan username: BIMBOT\n",
            "Masukkan password: Yomaka1215\n",
            "Login gagal\n"
          ]
        }
      ]
    },
    {
      "cell_type": "code",
      "source": [
        "# Praktikum if soal 3\n",
        "\n",
        "total_belanja = input(\"Total belanja: Rp \")\n",
        "bayar = int(total_belanja)\n",
        "\n",
        "if int(total_belanja) > 100000:\n",
        "    print(\"Selamat Karena Belanja > Rp. 100.000 anda mendapat Voucher Makan \")\n",
        "    print(\"dan diskon 5%\")\n",
        "    diskon = int(total_belanja) * 5 / 100\n",
        "    bayar = int(total_belanja) - diskon\n",
        "    print(f\"Total yang harus dibayar: Rp {bayar}\")\n",
        "    print(\"Terima kasih sudah berbelanja di Toko Kami\")\n",
        "    print(\"Kami Tunggu kunjungan anda selanjutnya.\")\n"
      ],
      "metadata": {
        "colab": {
          "base_uri": "https://localhost:8080/"
        },
        "id": "As4mfu3D0GJE",
        "outputId": "72e3e3f4-949a-4121-942f-d64ffa25bb5e"
      },
      "execution_count": 13,
      "outputs": [
        {
          "output_type": "stream",
          "name": "stdout",
          "text": [
            "Total belanja: Rp 120000\n",
            "Selamat Karena Belanja > Rp. 100.000 anda mendapat Voucher Makan \n",
            "dan diskon 5%\n",
            "Total yang harus dibayar: Rp 114000.0\n",
            "Terima kasih sudah berbelanja di Toko Kami\n",
            "Kami Tunggu kunjungan anda selanjutnya.\n"
          ]
        }
      ]
    },
    {
      "cell_type": "code",
      "source": [
        "# Praktikum if soal 4\n",
        "\n",
        "# Variabel untuk memeriksa apakah ada notifikasi baru, menggunakan int (1 untuk True, 0 untuk False)\n",
        "ada_notifikasi_baru = int(input(\"Apakah Anda memiliki notifikasi baru? (1 untuk ya, 0 untuk tidak): \"))\n",
        "\n",
        "# Mengecek apakah ada notifikasi baru\n",
        "if ada_notifikasi_baru == 1:\n",
        "    print(\"Anda memiliki pesan baru!\")\n",
        "else:\n",
        "    print(\"Tidak ada pesan baru.\")\n",
        "\n"
      ],
      "metadata": {
        "colab": {
          "base_uri": "https://localhost:8080/"
        },
        "id": "aM0Tx0Qi082C",
        "outputId": "d3d114d5-da9b-41a8-f6e2-ce55c39d27bc"
      },
      "execution_count": 15,
      "outputs": [
        {
          "output_type": "stream",
          "name": "stdout",
          "text": [
            "Apakah Anda memiliki notifikasi baru? (1 untuk ya, 0 untuk tidak): 0\n",
            "Tidak ada pesan baru.\n"
          ]
        }
      ]
    },
    {
      "cell_type": "code",
      "source": [
        "# Praktikum if - else soal 1\n",
        "\n",
        "umur = input(\"Berapa umur kamu: \")\n",
        "if int(umur) >= 18:\n",
        "    print(\"Kamu boleh membuat SIM\")\n",
        "else:\n",
        "    print(\"Kamu belum boleh membuat SIM\")\n"
      ],
      "metadata": {
        "colab": {
          "base_uri": "https://localhost:8080/"
        },
        "id": "pB7MWem32CvU",
        "outputId": "09c631fe-a928-4d90-f4f2-0dfad5d4013d"
      },
      "execution_count": 16,
      "outputs": [
        {
          "output_type": "stream",
          "name": "stdout",
          "text": [
            "Berapa umur kamu: 17\n",
            "Kamu belum boleh membuat SIM\n"
          ]
        }
      ]
    },
    {
      "cell_type": "code",
      "source": [
        "# Praktikum if - else soal 2\n",
        "\n",
        "angka = int(input(\"Masukkan bilangan: \"))\n",
        "if angka % 2 == 0:\n",
        "    print(\"Bilangan Genap\")\n",
        "else:\n",
        "    print(\"Bilangan Ganjil\")\n",
        "\n"
      ],
      "metadata": {
        "colab": {
          "base_uri": "https://localhost:8080/"
        },
        "id": "9AEn5P0U3gUn",
        "outputId": "8a72403a-f14e-44d9-e3f9-d6123c746344"
      },
      "execution_count": 17,
      "outputs": [
        {
          "output_type": "stream",
          "name": "stdout",
          "text": [
            "Masukkan bilangan: 43\n",
            "Bilangan Ganjil\n"
          ]
        }
      ]
    },
    {
      "cell_type": "code",
      "source": [
        "# Praktikum if - else soal 3\n",
        "\n",
        "# Asumsikan total belanja\n",
        "total_belanja = float(input(\"Masukkan total belanja Anda: Rp \"))\n",
        "\n",
        "# Mengecek apakah total belanja lebih dari 200.000\n",
        "if total_belanja > 200000:\n",
        "    diskon = total_belanja * 0.10  # Menghitung diskon 10%\n",
        "    total_bayar = total_belanja - diskon  # Menghitung total bayar setelah diskon\n",
        "    print(f\"Anda mendapat diskon! Total bayar setelah diskon: Rp {total_bayar}\")\n",
        "else:\n",
        "    print(f\"Total bayar: Rp {total_belanja}\")\n",
        "\n"
      ],
      "metadata": {
        "colab": {
          "base_uri": "https://localhost:8080/"
        },
        "id": "MXeqI-6I4EFs",
        "outputId": "56aa0ad8-9017-416e-d79b-edb9e5f2f4ce"
      },
      "execution_count": 24,
      "outputs": [
        {
          "output_type": "stream",
          "name": "stdout",
          "text": [
            "Masukkan total belanja Anda: Rp 230000\n",
            "Anda mendapat diskon! Total bayar setelah diskon: Rp 207000.0\n"
          ]
        }
      ]
    },
    {
      "cell_type": "code",
      "source": [
        "# Praktikum if - elif - else soal 1\n",
        "\n",
        "nilai = int(input(\"Masukkan nilai Anda: \"))\n",
        "if nilai >= 85:\n",
        "    print(\"Luar biasa! Nilai A\")\n",
        "elif nilai >= 70:\n",
        "    print(\"Bagus! Nilai B\")\n",
        "elif nilai >= 60:\n",
        "    print(\"Cukup. Nilai C\")\n",
        "elif nilai >= 50:\n",
        "    print(\"Kurang. Nilai D\")\n",
        "elif nilai >= 40:\n",
        "    print(\"Kurang Sekali. Nilai E\")\n",
        "else:\n",
        "    print(\"Nilai kurang, perlu belajar lebih giat.\")\n"
      ],
      "metadata": {
        "colab": {
          "base_uri": "https://localhost:8080/"
        },
        "id": "u1v5bCbk5P4t",
        "outputId": "cbbc2571-963c-41b3-ca1c-9592c0ac3346"
      },
      "execution_count": 28,
      "outputs": [
        {
          "output_type": "stream",
          "name": "stdout",
          "text": [
            "Masukkan nilai Anda: 30\n",
            "Nilai kurang, perlu belajar lebih giat.\n"
          ]
        }
      ]
    },
    {
      "cell_type": "code",
      "source": [
        "# Praktikum if - elif - else soal 2\n",
        "\n",
        "rupiah = int(input(\"Masukkan jumlah uang (Rp): \"))\n",
        "print(\"1. Dollar (USD)\")\n",
        "print(\"2. Euro (EUR)\")\n",
        "print(\"3. Yen (JPY)\")\n",
        "pilih = int(input(\"Pilih konversi (1/2/3): \"))\n",
        "\n",
        "if pilih == 1:\n",
        "    print(\"Dalam Dollar:\", rupiah / 16000)\n",
        "elif pilih == 2:\n",
        "    print(\"Dalam Euro:\", rupiah / 19000)\n",
        "elif pilih == 3:\n",
        "    print(\"Dalam Yen:\", rupiah / 112)\n",
        "else:\n",
        "    print(\"Pilihan tidak valid\")\n"
      ],
      "metadata": {
        "colab": {
          "base_uri": "https://localhost:8080/"
        },
        "id": "T5KvHCSB8MQM",
        "outputId": "19672a20-6815-4a58-b727-fc74f44ace01"
      },
      "execution_count": 29,
      "outputs": [
        {
          "output_type": "stream",
          "name": "stdout",
          "text": [
            "Masukkan jumlah uang (Rp): 50000\n",
            "1. Dollar (USD)\n",
            "2. Euro (EUR)\n",
            "3. Yen (JPY)\n",
            "Pilih konversi (1/2/3): 1\n",
            "Dalam Dollar: 3.125\n"
          ]
        }
      ]
    },
    {
      "cell_type": "code",
      "source": [
        "# Praktikum if - elif - else\n",
        "\n",
        "hari = str(input(\"Masukkan hari: \"))\n",
        "\n",
        "if hari == \"Sabtu\" or hari == \"Minggu\":\n",
        "    diskon = 0.20  # Diskon 20%\n",
        "    print(f\"Selamat! Anda mendapat diskon akhir pekan sebesar {diskon*100}%.\")\n",
        "elif hari == \"Jumat\":\n",
        "    diskon = 0.15  # Diskon 15%\n",
        "    print(f\"Diskon spesial Jumat! Anda mendapat potongan {diskon*100}%.\")\n",
        "elif hari == \"Senin\" or hari == \"Selasa\":\n",
        "    diskon = 0.10  # Diskon 10%\n",
        "    print(f\"Anda mendapat diskon hari kerja sebesar {diskon*100}%.\")\n",
        "else:\n",
        "    diskon = 0.05  # Diskon 5%\n",
        "    print(f\"Anda mendapat diskon hari biasa sebesar {diskon*100}%.\")\n"
      ],
      "metadata": {
        "colab": {
          "base_uri": "https://localhost:8080/"
        },
        "id": "hTQ6i0ru9ozB",
        "outputId": "cb080092-9f3c-4c4f-917d-d788e9688d5a"
      },
      "execution_count": 37,
      "outputs": [
        {
          "output_type": "stream",
          "name": "stdout",
          "text": [
            "Masukkan hari: rabu\n",
            "Anda mendapat diskon hari biasa sebesar 5.0%.\n"
          ]
        }
      ]
    }
  ]
}