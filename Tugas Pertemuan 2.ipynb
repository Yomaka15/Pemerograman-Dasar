{
  "nbformat": 4,
  "nbformat_minor": 0,
  "metadata": {
    "colab": {
      "provenance": [],
      "authorship_tag": "ABX9TyNZz0BfJP5OFUh+VzjzMa/V",
      "include_colab_link": true
    },
    "kernelspec": {
      "name": "python3",
      "display_name": "Python 3"
    },
    "language_info": {
      "name": "python"
    }
  },
  "cells": [
    {
      "cell_type": "markdown",
      "metadata": {
        "id": "view-in-github",
        "colab_type": "text"
      },
      "source": [
        "<a href=\"https://colab.research.google.com/github/Yomaka15/Pemerograman-Dasar/blob/main/pertemuan%202.ipynb\" target=\"_parent\"><img src=\"https://colab.research.google.com/assets/colab-badge.svg\" alt=\"Open In Colab\"/></a>"
      ]
    },
    {
      "cell_type": "code",
      "source": [
        "#  Tugas minggu 2\n",
        "\n",
        "# variabel dengan tipe data sesuai ketentuan\n",
        "firstName = \"Yosabad Bima\"       # string\n",
        "lastName = \"Duka\"           # string\n",
        "age = 19                    # integer\n",
        "isMarried = False           # boolean\n",
        "\n",
        "# menampilkan isi variabel\n",
        "print(\"Nama Depan        :\", firstName)\n",
        "print(\"Nama Belakang     :\", lastName)\n",
        "print(\"Umur              :\", age)\n",
        "print(\"Status Pernikahan :\", isMarried)\n",
        "print()\n",
        "\n",
        "\n",
        "\n"
      ],
      "metadata": {
        "colab": {
          "base_uri": "https://localhost:8080/"
        },
        "id": "DKOnv9k9nY9a",
        "outputId": "64ba0e08-4c57-4da2-d01c-31f0730faedd"
      },
      "execution_count": 38,
      "outputs": [
        {
          "output_type": "stream",
          "name": "stdout",
          "text": [
            "Nama Depan        : Yosabad Bima\n",
            "Nama Belakang     : Duka\n",
            "Umur              : 19\n",
            "Status Pernikahan : False\n",
            "\n"
          ]
        }
      ]
    },
    {
      "cell_type": "code",
      "source": [
        "\n",
        "# Variable dictionary\n",
        "Data_diri = {\n",
        "    \"firstName\": \"Yosabad Bima\",\n",
        "    \"lastName\": \"Duka\",\n",
        "    \"age\": 19,\n",
        "    \"isMarried\": False\n",
        "}\n",
        "# menampilkan variable dictionary\n",
        "print(\"Nama Depan :\", [\"firstName\"])\n",
        "print(\"Nama Belakang :\", [\"lastName\"])\n",
        "print(\"Umur :\", [\"age\"])\n",
        "print(\"Status Pernikahan :\", [\"isMarried\"])\n",
        "print()"
      ],
      "metadata": {
        "colab": {
          "base_uri": "https://localhost:8080/"
        },
        "id": "5WV90mKk6drD",
        "outputId": "440a76b8-dd40-493c-f47b-360069965e18"
      },
      "execution_count": 35,
      "outputs": [
        {
          "output_type": "stream",
          "name": "stdout",
          "text": [
            "Nama Depan : ['firstName']\n",
            "Nama Belakang : ['lastName']\n",
            "Umur : ['age']\n",
            "Status Pernikahan : ['isMarried']\n",
            "\n"
          ]
        }
      ]
    },
    {
      "cell_type": "code",
      "source": [
        "\n",
        "# membuat list berisi daftar inspeksi\n",
        "inspeksi = [\n",
        "    \"pemahaman terhadap rencana dan desain\",\n",
        "    \"ketersediaan bahan dan peralatan\",\n",
        "    \"pengawasan pekerjaan\",\n",
        "    \"kualitas konstruksi\",\n",
        "    \"keselamatan kerja\",\n",
        "    \"koordinasi dengan pemilik proyek\"\n",
        "]\n",
        "\n",
        "# menampilkan isi list\n",
        "print(\"Daftar Inspeksi:\")\n",
        "for item in inspeksi:\n",
        "    print(\"-\", item)\n",
        "    print()"
      ],
      "metadata": {
        "colab": {
          "base_uri": "https://localhost:8080/"
        },
        "id": "BxYUkvOf7Jr1",
        "outputId": "5ca6dd2e-1f61-4b44-e112-3399338884e8"
      },
      "execution_count": 34,
      "outputs": [
        {
          "output_type": "stream",
          "name": "stdout",
          "text": [
            "Daftar Inspeksi:\n",
            "- pemahaman terhadap rencana dan desain\n",
            "\n",
            "- ketersediaan bahan dan peralatan\n",
            "\n",
            "- pengawasan pekerjaan\n",
            "\n",
            "- kualitas konstruksi\n",
            "\n",
            "- keselamatan kerja\n",
            "\n",
            "- koordinasi dengan pemilik proyek\n",
            "\n"
          ]
        }
      ]
    },
    {
      "cell_type": "code",
      "source": [
        "\n",
        "\n",
        "\n",
        "# dictionary untuk waktu datang\n",
        "startTime = {\n",
        "    \"HH\": 9, #jam\n",
        "    \"mm\": 23, #menit\n",
        "    \"ss\": 57 #detik\n",
        "}\n",
        "\n",
        "# dictionary untuk waktu pulang\n",
        "endTime = {\n",
        "    \"HH\": 15, #jam\n",
        "    \"mm\": 25, #menit\n",
        "    \"ss\": 43  #detik\n",
        "}\n",
        "\n",
        "# Menampilkan hasil\n",
        "print(\"Waktu Datang (Start Time):\")\n",
        "print(f\"{startTime['HH']:02d}:{startTime['mm']:02d}:{startTime['ss']:02d}\")\n",
        "\n",
        "print(\"Waktu Pulang (End Time):\")\n",
        "print(f\"{endTime['HH']:02d}:{endTime['mm']:02d}:{endTime['ss']:02d}\")\n",
        "print()"
      ],
      "metadata": {
        "colab": {
          "base_uri": "https://localhost:8080/"
        },
        "id": "b1urdl257h2m",
        "outputId": "cb86e557-5f0d-40b2-f712-7b6fa0bc2907"
      },
      "execution_count": 33,
      "outputs": [
        {
          "output_type": "stream",
          "name": "stdout",
          "text": [
            "Waktu Datang (Start Time):\n",
            "09:23:57\n",
            "Waktu Pulang (End Time):\n",
            "15:25:43\n",
            "\n"
          ]
        }
      ]
    },
    {
      "cell_type": "code",
      "source": [
        "\n",
        "# Data awal\n",
        "katalog_A = {\"Laptop\", \"Mouse\", \"Keyboard\", \"Monitor\"}\n",
        "katalog_B = {\"Tablet\", \"Mouse\", \"Headphone\", \"Monitor\"}\n",
        "produk_diskon = (\"Laptop\", \"Headphone\", \"Printer\")\n",
        "\n",
        "# 1. Gabungkan katalog_A dan katalog_B\n",
        "katalog_lengkap = katalog_A.union(katalog_B)\n",
        "\n",
        "# 2. Cari produk yang ada di katalog_lengkap dan produk_diskon\n",
        "produk_promo_aktif = katalog_lengkap.intersection(produk_diskon)\n",
        "\n",
        "# Output\n",
        "print(\"Katalog Lengkap :\", katalog_lengkap)\n",
        "print(\"Produk Diskon   :\", produk_diskon)\n",
        "print(\"Produk Promo Aktif :\", produk_promo_aktif)\n"
      ],
      "metadata": {
        "colab": {
          "base_uri": "https://localhost:8080/"
        },
        "id": "zXT3ZE6u7vdj",
        "outputId": "798d4fec-4e84-48e7-ac4e-a8fe8cab8f02"
      },
      "execution_count": 36,
      "outputs": [
        {
          "output_type": "stream",
          "name": "stdout",
          "text": [
            "Katalog Lengkap : {'Mouse', 'Laptop', 'Tablet', 'Headphone', 'Keyboard', 'Monitor'}\n",
            "Produk Diskon   : ('Laptop', 'Headphone', 'Printer')\n",
            "Produk Promo Aktif : {'Headphone', 'Laptop'}\n"
          ]
        }
      ]
    }
  ]
}
