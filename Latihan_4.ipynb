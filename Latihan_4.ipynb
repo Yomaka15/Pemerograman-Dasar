{
  "nbformat": 4,
  "nbformat_minor": 0,
  "metadata": {
    "colab": {
      "provenance": [],
      "authorship_tag": "ABX9TyOYOXuEiinIZeOFiJ8Cj7vh",
      "include_colab_link": true
    },
    "kernelspec": {
      "name": "python3",
      "display_name": "Python 3"
    },
    "language_info": {
      "name": "python"
    }
  },
  "cells": [
    {
      "cell_type": "markdown",
      "metadata": {
        "id": "view-in-github",
        "colab_type": "text"
      },
      "source": [
        "<a href=\"https://colab.research.google.com/github/Yomaka15/Pemerograman-Dasar/blob/main/Latihan_4.ipynb\" target=\"_parent\"><img src=\"https://colab.research.google.com/assets/colab-badge.svg\" alt=\"Open In Colab\"/></a>"
      ]
    },
    {
      "cell_type": "code",
      "execution_count": 3,
      "metadata": {
        "id": "zAe4dc0riHLL",
        "colab": {
          "base_uri": "https://localhost:8080/"
        },
        "outputId": "3b5b0dd6-d93e-47d2-8fcd-131b37972993"
      },
      "outputs": [
        {
          "output_type": "stream",
          "name": "stdout",
          "text": [
            "Masukkan angka: 26\n",
            "Bukan Kelipatan 5\n"
          ]
        }
      ],
      "source": [
        "# soal 1\n",
        "\n",
        "# Meminta input angka dari pengguna\n",
        "angka = int(input(\"Masukkan angka: \"))\n",
        "\n",
        "# Mengecek apakah angka tersebut habis dibagi 5\n",
        "if angka % 5 == 0:\n",
        "    print(\"Kelipatan 5\")\n",
        "else:\n",
        "    print(\"Bukan Kelipatan 5\")\n"
      ]
    },
    {
      "cell_type": "code",
      "source": [
        "# Soal 2\n",
        "\n",
        "# input tahun dari pengguna\n",
        "tahun = int(input(\"Masukkan tahun: \"))\n",
        "\n",
        "# Menentukan apakah tahun tersebut tahun kabisat\n",
        "if (tahun % 400 == 0) or (tahun % 4 == 0 and tahun % 100 != 0):\n",
        "    print(f\"{tahun} adalah tahun kabisat.\")\n",
        "else:\n",
        "    print(f\"{tahun} bukan tahun kabisat.\")\n"
      ],
      "metadata": {
        "colab": {
          "base_uri": "https://localhost:8080/"
        },
        "id": "oZ5nadbCk15e",
        "outputId": "dbcbc825-e15b-4716-ccad-024546a3680a"
      },
      "execution_count": 6,
      "outputs": [
        {
          "output_type": "stream",
          "name": "stdout",
          "text": [
            "Masukkan tahun: 2025\n",
            "2025 bukan tahun kabisat.\n"
          ]
        }
      ]
    },
    {
      "cell_type": "code",
      "source": [
        "# Soal 3\n",
        "\n",
        "# Meminta input panjang, lebar, dan tinggi balok\n",
        "panjang = float(input(\"Masukkan panjang balok: \"))\n",
        "lebar = float(input(\"Masukkan lebar balok: \"))\n",
        "tinggi = float(input(\"Masukkan tinggi balok: \"))\n",
        "\n",
        "# Mengecek apakah semua dimensi balok valid (lebih besar dari 0)\n",
        "if panjang > 0 and lebar > 0 and tinggi > 0:\n",
        "    # Menghitung volume balok\n",
        "    volume = panjang * lebar * tinggi\n",
        "    print(f\"Volume balok adalah: {volume} m.\")\n",
        "else:\n",
        "    print(\"Dimensi balok tidak valid! Semua dimensi harus lebih besar dari 0.\")\n"
      ],
      "metadata": {
        "colab": {
          "base_uri": "https://localhost:8080/"
        },
        "id": "85A1j4OQliyc",
        "outputId": "2a8eb6a1-af75-4d05-8751-710721a2f526"
      },
      "execution_count": 8,
      "outputs": [
        {
          "output_type": "stream",
          "name": "stdout",
          "text": [
            "Masukkan panjang balok: 12\n",
            "Masukkan lebar balok: 5\n",
            "Masukkan tinggi balok: 6\n",
            "Volume balok adalah: 360.0 m.\n"
          ]
        }
      ]
    },
    {
      "cell_type": "code",
      "source": [
        "# Soal 4\n",
        "\n",
        "# input bulan\n",
        "bulan = int(input(\"Masukkan angka bulan (1-12): \"))\n",
        "\n",
        "# Menampilkan nama bulan sesuai input\n",
        "if bulan == 1:\n",
        "    print(\"Januari\")\n",
        "elif bulan == 2:\n",
        "    print(\"Februari\")\n",
        "elif bulan == 3:\n",
        "    print(\"Maret\")\n",
        "elif bulan == 4:\n",
        "    print(\"April\")\n",
        "elif bulan == 5:\n",
        "    print(\"Mei\")\n",
        "elif bulan == 6:\n",
        "    print(\"Juni\")\n",
        "elif bulan == 7:\n",
        "    print(\"Juli\")\n",
        "elif bulan == 8:\n",
        "    print(\"Agustus\")\n",
        "elif bulan == 9:\n",
        "    print(\"September\")\n",
        "elif bulan == 10:\n",
        "    print(\"Oktober\")\n",
        "elif bulan == 11:\n",
        "    print(\"November\")\n",
        "elif bulan == 12:\n",
        "    print(\"Desember\")\n",
        "else:\n",
        "    print(\"Input salah.\")\n"
      ],
      "metadata": {
        "colab": {
          "base_uri": "https://localhost:8080/"
        },
        "id": "zUzqxauEpD0-",
        "outputId": "15406929-f8e3-4018-8094-ccd4e4d89789"
      },
      "execution_count": 10,
      "outputs": [
        {
          "output_type": "stream",
          "name": "stdout",
          "text": [
            "Masukkan angka bulan (1-12): 6\n",
            "Juni\n"
          ]
        }
      ]
    },
    {
      "cell_type": "code",
      "source": [
        "# Soal 5\n",
        "\n",
        "# Meminta input jam dari pengguna\n",
        "jam = int(input(\"Masukkan jam (0-23): \"))\n",
        "\n",
        "# Menampilkan salam sesuai jam yang dimasukkan\n",
        "if jam >= 0 and jam <= 11:\n",
        "    print(\"Selamat Pagi\")\n",
        "elif jam >= 12 and jam <= 15:\n",
        "    print(\"Selamat Siang\")\n",
        "elif jam >= 16 and jam <= 18:\n",
        "    print(\"Selamat Sore\")\n",
        "elif jam >= 19 and jam <= 23:\n",
        "    print(\"Selamat Malam\")\n",
        "else:\n",
        "    print(\"Input salah! Jam harus antara 0 dan 23.\")\n"
      ],
      "metadata": {
        "colab": {
          "base_uri": "https://localhost:8080/"
        },
        "id": "GaNtUXH3p1BN",
        "outputId": "2f7f4446-5a1e-4aff-b38c-efc22fc1aad0"
      },
      "execution_count": 12,
      "outputs": [
        {
          "output_type": "stream",
          "name": "stdout",
          "text": [
            "Masukkan jam (0-23): 15\n",
            "Selamat Siang\n"
          ]
        }
      ]
    }
  ]
}