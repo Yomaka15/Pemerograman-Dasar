{
  "nbformat": 4,
  "nbformat_minor": 0,
  "metadata": {
    "colab": {
      "provenance": [],
      "authorship_tag": "ABX9TyMeZNuRH1PpowKCHrm7j/fv",
      "include_colab_link": true
    },
    "kernelspec": {
      "name": "python3",
      "display_name": "Python 3"
    },
    "language_info": {
      "name": "python"
    }
  },
  "cells": [
    {
      "cell_type": "markdown",
      "metadata": {
        "id": "view-in-github",
        "colab_type": "text"
      },
      "source": [
        "<a href=\"https://colab.research.google.com/github/Yomaka15/Pemerograman-Dasar/blob/main/SOAL%208.ipynb\" target=\"_parent\"><img src=\"https://colab.research.google.com/assets/colab-badge.svg\" alt=\"Open In Colab\"/></a>"
      ]
    },
    {
      "cell_type": "code",
      "execution_count": 14,
      "metadata": {
        "colab": {
          "base_uri": "https://localhost:8080/"
        },
        "id": "L3VD4aGei9zO",
        "outputId": "d9a3b5e9-5eea-4809-b94f-6073d9ab583e"
      },
      "outputs": [
        {
          "output_type": "stream",
          "name": "stdout",
          "text": [
            "Nama : bima\n",
            "Umur : 19\n",
            "Jurusan : RPE\n",
            "Semester : 3\n",
            "Mata kuliah : Pemrograman Dasar\n",
            "Status lulus : False\n"
          ]
        }
      ],
      "source": [
        "# variable type annotation\n",
        "nama: str = \"bima\"\n",
        "umur: int = 19\n",
        "jurusan: str = \"RPE\"\n",
        "semester: int = 3\n",
        "matakuliah: str = \"Pemrograman Dasar\"\n",
        "status_lulus: bool = False\n",
        "\n",
        "# fungsi annotation\n",
        "def cek_biodata(nama: str, umur: int, jurusan: str, semester: int, matakuliah: str, status_lulus: bool) -> None:\n",
        "\n",
        "#fungsi untuk mencetak biodata mahasiswa\n",
        "\n",
        "    print(f\"Nama : {nama}\")\n",
        "    print(f\"Umur : {umur}\")\n",
        "    print(f\"Jurusan : {jurusan}\")\n",
        "    print(f\"Semester : {semester}\")\n",
        "    print(f\"Mata kuliah : {matakuliah}\")\n",
        "    print(f\"Status lulus : {status_lulus}\")\n",
        "# panggil fungsi\n",
        "cek_biodata(nama, umur, jurusan, semester, matakuliah, status_lulus)"
      ]
    }
  ]
}
