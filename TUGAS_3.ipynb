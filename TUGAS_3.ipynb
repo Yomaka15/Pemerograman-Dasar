{
  "nbformat": 4,
  "nbformat_minor": 0,
  "metadata": {
    "colab": {
      "provenance": [],
      "authorship_tag": "ABX9TyMCYQCujDOUxo/cxKf5BZyp",
      "include_colab_link": true
    },
    "kernelspec": {
      "name": "python3",
      "display_name": "Python 3"
    },
    "language_info": {
      "name": "python"
    }
  },
  "cells": [
    {
      "cell_type": "markdown",
      "metadata": {
        "id": "view-in-github",
        "colab_type": "text"
      },
      "source": [
        "<a href=\"https://colab.research.google.com/github/Yomaka15/Pemerograman-Dasar/blob/main/TUGAS_3.ipynb\" target=\"_parent\"><img src=\"https://colab.research.google.com/assets/colab-badge.svg\" alt=\"Open In Colab\"/></a>"
      ]
    },
    {
      "cell_type": "code",
      "execution_count": 14,
      "metadata": {
        "colab": {
          "base_uri": "https://localhost:8080/"
        },
        "id": "ml9lJfTJ575v",
        "outputId": "8ce0986d-b384-42e9-cb98-c4a899e4f128"
      },
      "outputs": [
        {
          "output_type": "stream",
          "name": "stdout",
          "text": [
            "Masukkan total harga barang (Rp): 120000\n",
            "Apakah pelanggan adalah anggota (member)? (ya/tidak): YA\n",
            "Subtotal: Rp 120,000\n",
            "Diskon: Rp 18,000\n",
            "Harga setelah diskon: Rp 102,000\n",
            "PPN (11%): Rp 11,220\n",
            "Total akhir: Rp 113,220\n"
          ]
        }
      ],
      "source": [
        "#  TUGAS 3\n",
        "\n",
        "# Input harga barang dan status anggota\n",
        "harga_barang = float(input(\"Masukkan total harga barang (Rp): \"))\n",
        "is_member = input(\"Apakah pelanggan adalah anggota (member)? (ya/tidak): \").lower() == \"ya\"\n",
        "\n",
        "# Hitung subtotal\n",
        "subtotal = harga_barang\n",
        "\n",
        "# Tentukan diskon jika member dan subtotal lebih dari 100000\n",
        "diskon = (0.15 * subtotal) * is_member * (subtotal > 100000)\n",
        "\n",
        "# Hitung harga setelah diskon\n",
        "harga_setelah_diskon = subtotal - diskon\n",
        "\n",
        "# Hitung PPN 11% dari harga setelah diskon\n",
        "ppn = 0.11 * harga_setelah_diskon\n",
        "\n",
        "# Hitung total akhir setelah PPN\n",
        "total_akhir = harga_setelah_diskon + ppn\n",
        "\n",
        "# Output hasil\n",
        "print(f\"Subtotal: Rp {subtotal:,.0f}\")\n",
        "print(f\"Diskon: Rp {diskon:,.0f}\")\n",
        "print(f\"Harga setelah diskon: Rp {harga_setelah_diskon:,.0f}\")\n",
        "print(f\"PPN (11%): Rp {ppn:,.0f}\")\n",
        "print(f\"Total akhir: Rp {total_akhir:,.0f}\")\n"
      ]
    }
  ]
}