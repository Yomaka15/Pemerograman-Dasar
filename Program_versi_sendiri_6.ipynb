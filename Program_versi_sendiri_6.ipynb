{
  "nbformat": 4,
  "nbformat_minor": 0,
  "metadata": {
    "colab": {
      "provenance": [],
      "authorship_tag": "ABX9TyMcp+GOvqiOvJO6Q2RHIiJS",
      "include_colab_link": true
    },
    "kernelspec": {
      "name": "python3",
      "display_name": "Python 3"
    },
    "language_info": {
      "name": "python"
    }
  },
  "cells": [
    {
      "cell_type": "markdown",
      "metadata": {
        "id": "view-in-github",
        "colab_type": "text"
      },
      "source": [
        "<a href=\"https://colab.research.google.com/github/Yomaka15/Pemerograman-Dasar/blob/main/Program_versi_sendiri_6.ipynb\" target=\"_parent\"><img src=\"https://colab.research.google.com/assets/colab-badge.svg\" alt=\"Open In Colab\"/></a>"
      ]
    },
    {
      "cell_type": "code",
      "execution_count": 2,
      "metadata": {
        "colab": {
          "base_uri": "https://localhost:8080/"
        },
        "id": "boqsOmCQEACA",
        "outputId": "d096e6ab-f4e3-4e23-d1c8-658714faddba"
      },
      "outputs": [
        {
          "output_type": "stream",
          "name": "stdout",
          "text": [
            "Angka positif: 10\n",
            "Jumlah vokal dalam 'Hello World': 3\n",
            "Angka genap dalam list: [2, 4, 6]\n",
            "Angka ganjil dalam tuple: [1, 3]\n",
            "Jumlah elemen unik dalam set: 4\n",
            "name: Bima\n",
            "age: 19\n",
            "Selesai menampilkan dictionary.\n"
          ]
        }
      ],
      "source": [
        "def analisis_data(data):\n",
        "    # Percabangan untuk tipe data int\n",
        "    if isinstance(data, int):\n",
        "        if data > 0:\n",
        "            return f\"Angka positif: {data}\"\n",
        "        elif data == 0:\n",
        "            return \"Angka nol\"\n",
        "        else:\n",
        "            return f\"Angka negatif: {data}\"\n",
        "\n",
        "    # Percabangan untuk tipe data str\n",
        "    elif isinstance(data, str):\n",
        "        # Menghitung jumlah huruf vokal\n",
        "        vowels = \"aeiouAEIOU\"\n",
        "        count = 0\n",
        "        for char in data:\n",
        "            if char in vowels:\n",
        "                count += 1\n",
        "        return f\"Jumlah vokal dalam '{data}': {count}\"\n",
        "\n",
        "    # Percabangan untuk tipe data list\n",
        "    elif isinstance(data, list):\n",
        "        even_numbers = [num for num in data if num % 2 == 0]\n",
        "        return f\"Angka genap dalam list: {even_numbers}\"\n",
        "\n",
        "    # Percabangan untuk tipe data tuple\n",
        "    elif isinstance(data, tuple):\n",
        "        odd_numbers = [num for num in data if num % 2 != 0]\n",
        "        return f\"Angka ganjil dalam tuple: {odd_numbers}\"\n",
        "\n",
        "    # Percabangan untuk tipe data set\n",
        "    elif isinstance(data, set):\n",
        "        return f\"Jumlah elemen unik dalam set: {len(data)}\"\n",
        "\n",
        "    # Percabangan untuk tipe data dictionary\n",
        "    elif isinstance(data, dict):\n",
        "        # Perulangan untuk menampilkan key-value pada dictionary\n",
        "        for key, value in data.items():\n",
        "            print(f\"{key}: {value}\")\n",
        "        return \"Selesai menampilkan dictionary.\"\n",
        "\n",
        "    else:\n",
        "        return \"Tipe data tidak dikenali\"\n",
        "\n",
        "# Contoh penggunaan fungsi\n",
        "print(analisis_data(10))  # Input integer\n",
        "print(analisis_data(\"Hello World\"))  # Input string\n",
        "print(analisis_data([1, 2, 3, 4, 5, 6]))  # Input list\n",
        "print(analisis_data((1, 2, 3, 4)))  # Input tuple\n",
        "print(analisis_data({1, 2, 3, 4}))  # Input set\n",
        "print(analisis_data({'name': 'Bima', 'age': 19}))  # Input dictionary\n",
        "\n"
      ]
    }
  ]
}