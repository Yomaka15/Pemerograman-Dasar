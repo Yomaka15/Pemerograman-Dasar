{
  "nbformat": 4,
  "nbformat_minor": 0,
  "metadata": {
    "colab": {
      "provenance": [],
      "authorship_tag": "ABX9TyPHhQSOdkjRJHzCGBRB9vzw",
      "include_colab_link": true
    },
    "kernelspec": {
      "name": "python3",
      "display_name": "Python 3"
    },
    "language_info": {
      "name": "python"
    }
  },
  "cells": [
    {
      "cell_type": "markdown",
      "metadata": {
        "id": "view-in-github",
        "colab_type": "text"
      },
      "source": [
        "<a href=\"https://colab.research.google.com/github/Yomaka15/Pemerograman-Dasar/blob/main/LATIHAN_PENGGANTI.ipynb\" target=\"_parent\"><img src=\"https://colab.research.google.com/assets/colab-badge.svg\" alt=\"Open In Colab\"/></a>"
      ]
    },
    {
      "cell_type": "code",
      "execution_count": 11,
      "metadata": {
        "colab": {
          "base_uri": "https://localhost:8080/"
        },
        "id": "GWdHuWmy_uqh",
        "outputId": "d753acef-b74d-48b8-b333-eb1c49309095"
      },
      "outputs": [
        {
          "output_type": "stream",
          "name": "stdout",
          "text": [
            "Sistem siap. Selamat datang kembali di sesi praktikum, Yomaka!\n",
            "Biodata:\n",
            "Nama     : Yomaka\n",
            "Usia     : 19 tahun\n",
            "Jurusan  : Teknik Elektro\n",
            "Kampus   : Politeknik Negeri Batam\n"
          ]
        }
      ],
      "source": [
        "# SOAL 1: Fungsi Inisialisasi Sederhana\n",
        "def sapa_praktikan(nama, usia, jurusan, kampus):\n",
        "    \"\"\"Mencetak pesan sambutan dasar dengan informasi biodata praktikan.\"\"\"\n",
        "    print(f\"Sistem siap. Selamat datang kembali di sesi praktikum, {nama}!\")\n",
        "    print(f\"Biodata:\")\n",
        "    print(f\"Nama     : {nama}\")\n",
        "    print(f\"Usia     : {usia} tahun\")\n",
        "    print(f\"Jurusan  : {jurusan}\")\n",
        "    print(f\"Kampus   : {kampus}\")\n",
        "\n",
        "# Pemanggilan dengan biodata praktikan\n",
        "sapa_praktikan(\"Yomaka\", 19, \"Teknik Elektro\", \"Politeknik Negeri Batam\")"
      ]
    },
    {
      "cell_type": "code",
      "source": [
        "def hitung_volume_balok(panjang, lebar, tinggi):\n",
        "    \"\"\"Menghitung volume balok dari panjang, lebar, dan tinggi.\"\"\"\n",
        "    return panjang * lebar * tinggi\n",
        "\n",
        "# Pemanggilan:\n",
        "panjang = 5\n",
        "lebar = 3\n",
        "tinggi = 4\n",
        "print(f\"Volume balok dengan panjang {panjang}, lebar {lebar}, dan tinggi {tinggi} adalah: {hitung_volume_balok(panjang, lebar, tinggi)}\")"
      ],
      "metadata": {
        "colab": {
          "base_uri": "https://localhost:8080/"
        },
        "id": "mDzZTl3PESgZ",
        "outputId": "6cf08088-c2db-4ffc-b9fd-9bb6a2190e3c"
      },
      "execution_count": 12,
      "outputs": [
        {
          "output_type": "stream",
          "name": "stdout",
          "text": [
            "Volume balok dengan panjang 5, lebar 3, dan tinggi 4 adalah: 60\n"
          ]
        }
      ]
    },
    {
      "cell_type": "code",
      "source": [
        "# SOAL 3: Menghitung Rata-rata dari List Nilai\n",
        "def hitung_rata_rata(data_nilai):\n",
        "    \"\"\"Menghitung rata-rata dari list angka menggunakan perulangan for.\"\"\"\n",
        "    total = 0\n",
        "    jumlah_nilai_valid = 0  # Variabel untuk menghitung nilai yang valid (di antara 0 dan 100)\n",
        "\n",
        "    # Perulangan untuk menjumlahkan nilai dengan Pengecekan\n",
        "    for nilai in data_nilai:\n",
        "        if nilai < 0 or nilai > 100:\n",
        "            print(f\"Nilai {nilai} tidak valid, harus antara 0 dan 100.\")\n",
        "            continue  # Abaikan nilai yang tidak valid\n",
        "        total += nilai\n",
        "        jumlah_nilai_valid += 1  # Hanya hitung nilai yang valid\n",
        "\n",
        "    # Pembagian untuk rata-rata jika ada nilai yang valid\n",
        "    if jumlah_nilai_valid > 0:\n",
        "        return total / jumlah_nilai_valid\n",
        "    return 0\n",
        "\n",
        "# Pemanggilan:\n",
        "nilai_praktikan = [85, 78, 92, 65, 110, -5, 90]\n",
        "print(f\"Nilai rata-rata kelas adalah: {hitung_rata_rata(nilai_praktikan)}\")"
      ],
      "metadata": {
        "colab": {
          "base_uri": "https://localhost:8080/"
        },
        "id": "RHAAjnGzIakD",
        "outputId": "29a228fd-33b9-448d-de1a-f527a7d77b92"
      },
      "execution_count": 14,
      "outputs": [
        {
          "output_type": "stream",
          "name": "stdout",
          "text": [
            "Nilai 110 tidak valid, harus antara 0 dan 100.\n",
            "Nilai -5 tidak valid, harus antara 0 dan 100.\n",
            "Nilai rata-rata kelas adalah: 82.0\n"
          ]
        }
      ]
    },
    {
      "cell_type": "code",
      "source": [
        "# SOAL 4: Sistem Penentuan Predikat Nilai\n",
        "def tentukan_predikat(skor):\n",
        "    \"\"\"Menentukan predikat (A, B, C, D, E) berdasarkan skor dengan Pengecekan tipe data.\"\"\"\n",
        "\n",
        "    # Pengecekan tipe data\n",
        "    if not isinstance(skor, (int, float)):\n",
        "        return \"Input harus berupa angka (int atau float).\"\n",
        "\n",
        "    # Menentukan predikat berdasarkan skor\n",
        "    if skor >= 85:\n",
        "        return \"A\"\n",
        "    elif skor >= 70:\n",
        "        return \"B\"\n",
        "    elif skor >= 60:\n",
        "        return \"C\"\n",
        "    elif skor >= 50:\n",
        "        return \"D\"\n",
        "    else:\n",
        "        return \"E\"\n",
        "\n",
        "# Pemanggilan:\n",
        "print(f\"Skor 75 mendapat predikat: {tentukan_predikat(75)}\")\n",
        "print(f\"Skor 48 mendapat predikat: {tentukan_predikat(48)}\")\n",
        "print(f\"Skor 'hah' mendapat predikat: {tentukan_predikat('hah')}\")\n",
        "print(f\"Skor 85.5 mendapat predikat: {tentukan_predikat(85.5)}\")"
      ],
      "metadata": {
        "colab": {
          "base_uri": "https://localhost:8080/"
        },
        "id": "5K_PC2LCKdoC",
        "outputId": "64bf5ff3-0b1e-408c-f828-c6ddf24c77b0"
      },
      "execution_count": 21,
      "outputs": [
        {
          "output_type": "stream",
          "name": "stdout",
          "text": [
            "Skor 75 mendapat predikat: B\n",
            "Skor 48 mendapat predikat: E\n",
            "Skor 'hah' mendapat predikat: Input harus berupa angka (int atau float).\n",
            "Skor 85.5 mendapat predikat: A\n"
          ]
        }
      ]
    },
    {
      "cell_type": "code",
      "source": [
        "# SOAL 5: Menghitung Faktorial dengan Loop While\n",
        "def hitung_faktorial(n):\n",
        "    \"\"\"Menghitung faktorial dari bilangan positif n.\"\"\"\n",
        "    hasil = 1\n",
        "    # menangani kasus khusus seperti n = 0 atau n < 0.\n",
        "    if n < 0:\n",
        "        return \"Faktorial tidak dapat dihitung untuk bilangan negatif.\"\n",
        "    elif n == 0:\n",
        "        return 1\n",
        "\n",
        "    # Perulangan berjalan selama n lebih besar dari 1\n",
        "    while n >= 1:\n",
        "        hasil *= n\n",
        "        n -=1  # Kurangi n\n",
        "    return hasil\n",
        "\n",
        "# Pemanggilan:\n",
        "bilangan_n = 4\n",
        "print(f\"Faktorial dari {bilangan_n} adalah: {hitung_faktorial(bilangan_n)}\")  # Output: 24\n",
        "print(f\"Faktorial dari 0 adalah: {hitung_faktorial(0)}\")  # Output: 1\n",
        "print(f\"Faktorial dari -5 adalah: {hitung_faktorial(-5)}\")"
      ],
      "metadata": {
        "id": "lt7wwZg8RnOC",
        "outputId": "e648a0d4-94b1-4b4a-a41e-e907669b0fcb",
        "colab": {
          "base_uri": "https://localhost:8080/"
        }
      },
      "execution_count": 28,
      "outputs": [
        {
          "output_type": "stream",
          "name": "stdout",
          "text": [
            "Faktorial dari 4 adalah: 24\n",
            "Faktorial dari 0 adalah: 1\n",
            "Faktorial dari -5 adalah: Faktorial tidak dapat dihitung untuk bilangan negatif.\n"
          ]
        }
      ]
    },
    {
      "cell_type": "code",
      "source": [
        "# SOAL 6: Analisis Data Suhu Ekstrem (for dan if/elif)\n",
        "def analisis_suhu(data_suhu, batas_panas = 35, batas_dingin = 15):\n",
        "    \"\"\"Menghitung jumlah hari Panas dan Dingin dari data_suhu.\"\"\"\n",
        "    panas_count = 0\n",
        "    dingin_count = 0\n",
        "\n",
        "\n",
        "    for suhu in data_suhu:\n",
        "        if suhu >= batas_panas  :\n",
        "            panas_count += 1\n",
        "        elif suhu <= batas_dingin:\n",
        "            dingin_count += 1\n",
        "\n",
        "    return panas_count, dingin_count\n",
        "\n",
        "# Pemanggilan:\n",
        "suhu_mingguan = [36, 30, 14, 25, 38, 16, 28]\n",
        "jumlah_panas, jumlah_dingin = analisis_suhu(suhu_mingguan)\n",
        "print(f\"Jumlah hari Panas (>=35°C): {jumlah_panas}\")\n",
        "print(f\"Jumlah hari Dingin (<=15°C): {jumlah_dingin}\")"
      ],
      "metadata": {
        "id": "RPWMpK1GTtn-",
        "outputId": "e9c5449f-33e4-4029-cc8d-fcfb6498a1f4",
        "colab": {
          "base_uri": "https://localhost:8080/"
        }
      },
      "execution_count": 29,
      "outputs": [
        {
          "output_type": "stream",
          "name": "stdout",
          "text": [
            "Jumlah hari Panas (>=35°C): 2\n",
            "Jumlah hari Dingin (<=15°C): 1\n"
          ]
        }
      ]
    }
  ]
}