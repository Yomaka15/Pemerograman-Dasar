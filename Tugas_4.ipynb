{
  "nbformat": 4,
  "nbformat_minor": 0,
  "metadata": {
    "colab": {
      "provenance": [],
      "authorship_tag": "ABX9TyMsSI/0QD3+ECH0jDYGQBtW",
      "include_colab_link": true
    },
    "kernelspec": {
      "name": "python3",
      "display_name": "Python 3"
    },
    "language_info": {
      "name": "python"
    }
  },
  "cells": [
    {
      "cell_type": "markdown",
      "metadata": {
        "id": "view-in-github",
        "colab_type": "text"
      },
      "source": [
        "<a href=\"https://colab.research.google.com/github/Yomaka15/Pemerograman-Dasar/blob/main/Tugas_4.ipynb\" target=\"_parent\"><img src=\"https://colab.research.google.com/assets/colab-badge.svg\" alt=\"Open In Colab\"/></a>"
      ]
    },
    {
      "cell_type": "code",
      "execution_count": 1,
      "metadata": {
        "colab": {
          "base_uri": "https://localhost:8080/"
        },
        "id": "KS-eslmzutQ8",
        "outputId": "36b0b7f5-0c43-45a2-c572-cac675fab32b"
      },
      "outputs": [
        {
          "output_type": "stream",
          "name": "stdout",
          "text": [
            "==============================\n",
            "SELAMAT DATANG DI KAFE GEMINI\n",
            "==============================\n",
            "Menu Makanan & Minuman:\n",
            "1. Kopi Hitam     - Rp 12.000\n",
            "2. Teh Manis      - Rp 8.000\n",
            "3. Roti Bakar     - Rp 15.000\n",
            "4. Mie Instan     - Rp 10.000\n",
            "==============================\n",
            "Silakan masukkan nomor pilihan Anda (1-4): 3\n",
            "Anda memesan: Roti Bakar dengan harga Rp 15000\n",
            "==============================\n",
            "Total yang harus dibayar: Rp 15000. Masukkan jumlah uang Anda: Rp 50000\n",
            "Diskon 30% diterapkan.\n",
            "Pesanan Anda: Roti Bakar\n",
            "Total Harga: Rp 15000\n",
            "Diskon: Rp 4500.0\n",
            "Total yang harus dibayar setelah diskon: Rp 10500.0\n",
            "Kembalian: Rp 39500.0\n"
          ]
        }
      ],
      "source": [
        "# Tugas_4\n",
        "\n",
        "print(\"=\"*30)\n",
        "print(\"SELAMAT DATANG DI KAFE GEMINI\")\n",
        "print(\"=\"*30)\n",
        "print(\"Menu Makanan & Minuman:\")\n",
        "print(\"1. Kopi Hitam     - Rp 12.000\")\n",
        "print(\"2. Teh Manis      - Rp 8.000\")\n",
        "print(\"3. Roti Bakar     - Rp 15.000\")\n",
        "print(\"4. Mie Instan     - Rp 10.000\")\n",
        "print(\"=\"*30)\n",
        "\n",
        "# Pilihan menu\n",
        "pilihan_str = input(\"Silakan masukkan nomor pilihan Anda (1-4): \")\n",
        "pilihan = int(pilihan_str)\n",
        "nama_pesanan = \"\"\n",
        "harga = 0\n",
        "\n",
        "if pilihan == 1:\n",
        "    nama_pesanan = \"Kopi Hitam\"\n",
        "    harga = 12000\n",
        "    print(f\"Anda memesan: {nama_pesanan} dengan harga Rp {harga}\")\n",
        "elif pilihan == 2:\n",
        "    nama_pesanan = \"Teh Manis\"\n",
        "    harga = 8000\n",
        "    print(f\"Anda memesan: {nama_pesanan} dengan harga Rp {harga}\")\n",
        "elif pilihan == 3:\n",
        "    nama_pesanan = \"Roti Bakar\"\n",
        "    harga = 15000\n",
        "    print(f\"Anda memesan: {nama_pesanan} dengan harga Rp {harga}\")\n",
        "elif pilihan == 4:\n",
        "    nama_pesanan = \"Mie Instan\"\n",
        "    harga = 10000\n",
        "    print(f\"Anda memesan: {nama_pesanan} dengan harga Rp {harga}\")\n",
        "else:\n",
        "    print(\"Maaf, pilihan menu tidak valid. Silakan jalankan ulang program.\")\n",
        "    harga = 0\n",
        "\n",
        "if harga > 0:\n",
        "    print(\"=\"*30)\n",
        "    uang_dibayar_str = input(f\"Total yang harus dibayar: Rp {harga}. Masukkan jumlah uang Anda: Rp \")\n",
        "    uang_dibayar = int(uang_dibayar_str)\n",
        "\n",
        "    # Memberikan diskon berdasarkan total belanja\n",
        "    if harga >= 30000:\n",
        "        diskon = 0.7\n",
        "        print(\"Diskon 70% diterapkan.\")\n",
        "    elif harga >= 20000:\n",
        "        diskon = 0.5\n",
        "        print(\"Diskon 50% diterapkan.\")\n",
        "    elif harga >= 10000:\n",
        "        diskon = 0.3\n",
        "        print(\"Diskon 30% diterapkan.\")\n",
        "    else:\n",
        "        diskon = 0\n",
        "\n",
        "    # Menghitung harga setelah diskon\n",
        "    harga_setelah_diskon = harga * (1 - diskon)\n",
        "    print(f\"Pesanan Anda: {nama_pesanan}\")\n",
        "    print(f\"Total Harga: Rp {harga}\")\n",
        "    print(f\"Diskon: Rp {harga - harga_setelah_diskon}\")\n",
        "    print(f\"Total yang harus dibayar setelah diskon: Rp {harga_setelah_diskon}\")\n",
        "\n",
        "    # Memeriksa apakah uang yang dibayar cukup\n",
        "    kembaliannya = uang_dibayar - harga_setelah_diskon\n",
        "    if kembaliannya < 0:\n",
        "        print(\"Uang Anda tidak cukup.\")\n",
        "    else:\n",
        "        print(f\"Kembalian: Rp {kembaliannya}\")\n",
        "else:\n",
        "    print(\"Terima kasih telah berbelanja!\")\n"
      ]
    }
  ]
}