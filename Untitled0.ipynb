{
  "nbformat": 4,
  "nbformat_minor": 0,
  "metadata": {
    "colab": {
      "provenance": [],
      "authorship_tag": "ABX9TyN/J/uWyu0vYoTF0BD2Q0Lx",
      "include_colab_link": true
    },
    "kernelspec": {
      "name": "python3",
      "display_name": "Python 3"
    },
    "language_info": {
      "name": "python"
    }
  },
  "cells": [
    {
      "cell_type": "markdown",
      "metadata": {
        "id": "view-in-github",
        "colab_type": "text"
      },
      "source": [
        "<a href=\"https://colab.research.google.com/github/Yomaka15/Pemerograman-Dasar/blob/main/Untitled0.ipynb\" target=\"_parent\"><img src=\"https://colab.research.google.com/assets/colab-badge.svg\" alt=\"Open In Colab\"/></a>"
      ]
    },
    {
      "cell_type": "code",
      "execution_count": null,
      "metadata": {
        "colab": {
          "base_uri": "https://localhost:8080/"
        },
        "id": "GWdHuWmy_uqh",
        "outputId": "d753acef-b74d-48b8-b333-eb1c49309095"
      },
      "outputs": [
        {
          "output_type": "stream",
          "name": "stdout",
          "text": [
            "Sistem siap. Selamat datang kembali di sesi praktikum, Yomaka!\n",
            "Biodata:\n",
            "Nama     : Yomaka\n",
            "Usia     : 19 tahun\n",
            "Jurusan  : Teknik Elektro\n",
            "Kampus   : Politeknik Negeri Batam\n"
          ]
        }
      ],
      "source": [
        "# SOAL 1: Fungsi Inisialisasi Sederhana\n",
        "def sapa_praktikan(nama, usia, jurusan, kampus):\n",
        "    \"\"\"Mencetak pesan sambutan dasar dengan informasi biodata praktikan.\"\"\"\n",
        "    print(f\"Sistem siap. Selamat datang kembali di sesi praktikum, {nama}!\")\n",
        "    print(f\"Biodata:\")\n",
        "    print(f\"Nama     : {nama}\")\n",
        "    print(f\"Usia     : {usia} tahun\")\n",
        "    print(f\"Jurusan  : {jurusan}\")\n",
        "    print(f\"Kampus   : {kampus}\")\n",
        "\n",
        "# Pemanggilan dengan biodata praktikan\n",
        "sapa_praktikan(\"Yomaka\", 19, \"Teknik Elektro\", \"Politeknik Negeri Batam\")"
      ]
    },
    {
      "cell_type": "code",
      "source": [
        "def hitung_volume_balok(panjang, lebar, tinggi):\n",
        "    \"\"\"Menghitung volume balok dari panjang, lebar, dan tinggi.\"\"\"\n",
        "    return panjang * lebar * tinggi\n",
        "\n",
        "# Pemanggilan:\n",
        "panjang = 5\n",
        "lebar = 3\n",
        "tinggi = 4\n",
        "print(f\"Volume balok dengan panjang {panjang}, lebar {lebar}, dan tinggi {tinggi} adalah: {hitung_volume_balok(panjang, lebar, tinggi)}\")"
      ],
      "metadata": {
        "colab": {
          "base_uri": "https://localhost:8080/"
        },
        "id": "mDzZTl3PESgZ",
        "outputId": "6cf08088-c2db-4ffc-b9fd-9bb6a2190e3c"
      },
      "execution_count": null,
      "outputs": [
        {
          "output_type": "stream",
          "name": "stdout",
          "text": [
            "Volume balok dengan panjang 5, lebar 3, dan tinggi 4 adalah: 60\n"
          ]
        }
      ]
    },
    {
      "cell_type": "code",
      "source": [
        "# SOAL 3: Menghitung Rata-rata dari List Nilai\n",
        "def hitung_rata_rata(data_nilai):\n",
        "    \"\"\"Menghitung rata-rata dari list angka menggunakan perulangan for.\"\"\"\n",
        "    total = 0\n",
        "    jumlah_nilai_valid = 0  # Variabel untuk menghitung nilai yang valid (di antara 0 dan 100)\n",
        "\n",
        "    # Perulangan untuk menjumlahkan nilai dengan Pengecekan\n",
        "    for nilai in data_nilai:\n",
        "        if nilai < 0 or nilai > 100:\n",
        "            print(f\"Nilai {nilai} tidak valid, harus antara 0 dan 100.\")\n",
        "            continue  # Abaikan nilai yang tidak valid\n",
        "        total += nilai\n",
        "        jumlah_nilai_valid += 1  # Hanya hitung nilai yang valid\n",
        "\n",
        "    # Pembagian untuk rata-rata jika ada nilai yang valid\n",
        "    if jumlah_nilai_valid > 0:\n",
        "        return total / jumlah_nilai_valid\n",
        "    return 0\n",
        "\n",
        "# Pemanggilan:\n",
        "nilai_praktikan = [85, 78, 92, 65, 110, -5, 90]\n",
        "print(f\"Nilai rata-rata kelas adalah: {hitung_rata_rata(nilai_praktikan)}\")"
      ],
      "metadata": {
        "colab": {
          "base_uri": "https://localhost:8080/"
        },
        "id": "RHAAjnGzIakD",
        "outputId": "29a228fd-33b9-448d-de1a-f527a7d77b92"
      },
      "execution_count": null,
      "outputs": [
        {
          "output_type": "stream",
          "name": "stdout",
          "text": [
            "Nilai 110 tidak valid, harus antara 0 dan 100.\n",
            "Nilai -5 tidak valid, harus antara 0 dan 100.\n",
            "Nilai rata-rata kelas adalah: 82.0\n"
          ]
        }
      ]
    },
    {
      "cell_type": "code",
      "source": [],
      "metadata": {
        "id": "5K_PC2LCKdoC"
      },
      "execution_count": null,
      "outputs": []
    }
  ]
}