{
  "nbformat": 4,
  "nbformat_minor": 0,
  "metadata": {
    "colab": {
      "provenance": [],
      "authorship_tag": "ABX9TyPvudd/8gCB7dBO25zR6YU2",
      "include_colab_link": true
    },
    "kernelspec": {
      "name": "python3",
      "display_name": "Python 3"
    },
    "language_info": {
      "name": "python"
    }
  },
  "cells": [
    {
      "cell_type": "markdown",
      "metadata": {
        "id": "view-in-github",
        "colab_type": "text"
      },
      "source": [
        "<a href=\"https://colab.research.google.com/github/Yomaka15/Pemerograman-Dasar/blob/main/PRATIKUM_3_.ipynb\" target=\"_parent\"><img src=\"https://colab.research.google.com/assets/colab-badge.svg\" alt=\"Open In Colab\"/></a>"
      ]
    },
    {
      "cell_type": "code",
      "execution_count": null,
      "metadata": {
        "colab": {
          "base_uri": "https://localhost:8080/"
        },
        "id": "iP1vOpL0fRA5",
        "outputId": "5293220c-32cc-4799-ddc7-16a0f280c195"
      },
      "outputs": [
        {
          "output_type": "stream",
          "name": "stdout",
          "text": [
            "Berapa porsi makan yang Anda beli? : 10\n",
            "Siapa Nama Pelanggan ? : Diego\n",
            "\n",
            "Data pesanan\n",
            "Nama Pelanggan :  Diego\n",
            "Total Pesanan :  10.0\n"
          ]
        }
      ],
      "source": [
        "# Praktikum 1\n",
        "\n",
        "# meminta data Pesanan Makanan(tipe Data float)\n",
        "total = float(input(\"Berapa porsi makan yang Anda beli? : \"))\n",
        "\n",
        "# meminta data Nama Pelanggan(tipe Data String)\n",
        "Nama  = str(input(\"Siapa Nama Pelanggan ? : \"))\n",
        "\n",
        "print()\n",
        "# menampilkan hasil input\n",
        "print(\"Data pesanan\")\n",
        "print(\"Nama Pelanggan : \",Nama)\n",
        "print(\"Total Pesanan : \",total)\n",
        "\n",
        "\n"
      ]
    },
    {
      "cell_type": "code",
      "source": [
        "# Praktikum 2\n",
        "\n",
        "# menampilkan output\n",
        "food =\"ayam bakar\"\n",
        "print(\"Bima sedang memesan\", food)\n",
        "\n",
        "print()\n",
        "# menampilkan output yang dipisahkan dengan karakter\n",
        "food = \"ayam bakar\"\n",
        "print(\"Bima sedang memesan\", food)\n",
        "print(\"Bima sedang memesan \" + food)\n",
        "print(\"Bima sedang memesan %s\" % (food))\n",
        "\n",
        "print()\n",
        "# Contoh penggunaan operator\n",
        "\n",
        "# %d untuk integer\n",
        "jumlah = 3\n",
        "print(\"Bima memesan %d porsi %s\" % (jumlah, food))\n",
        "\n",
        "# %f untuk float\n",
        "harga = 15.5\n",
        "print(\"Harga per porsi adalah %.3f ribu rupiah\" % harga)\n",
        "\n",
        "# %s untuk string\n",
        "minuman = \"Es Teh\"\n",
        "print(\"Selain itu Bima juga memesan %s\" % minuman)\n",
        "\n",
        "# %x untuk hexadecimal\n",
        "kode = 255\n",
        "print(\"Kode pesanan dalam heksadesimal adalah %x\" % kode)\n",
        "\n",
        "# %o untuk octal\n",
        "print(\"Kode pesanan dalam oktal adalah %o\"  % kode )\n",
        "\n"
      ],
      "metadata": {
        "colab": {
          "base_uri": "https://localhost:8080/"
        },
        "id": "Wm2RTT_Ukq0i",
        "outputId": "b6418d87-045a-4ed8-c446-40b693eb9adf"
      },
      "execution_count": null,
      "outputs": [
        {
          "output_type": "stream",
          "name": "stdout",
          "text": [
            "Bima sedang memesan ayam bakar\n",
            "\n",
            "Bima sedang memesan ayam bakar\n",
            "Bima sedang memesan ayam bakar\n",
            "Bima sedang memesan ayam bakar\n",
            "\n",
            "Bima memesan 3 porsi ayam bakar\n",
            "Harga per porsi adalah 15.500 ribu rupiah\n",
            "Selain itu Bima juga memesan Es Teh\n",
            "Kode pesanan dalam heksadesimal adalah ff\n",
            "Kode pesanan dalam oktal adalah 377\n"
          ]
        }
      ]
    },
    {
      "cell_type": "code",
      "source": [
        "# Praktikum 3\n",
        "\n",
        "# Kalkulator kasir\n",
        "harga_makan = int(input(\"Berapa harga nasi kebuli per porsi? \"))\n",
        "jumlah_makan = int(input(\"Berapa porsi yang Anda beli? \"))\n",
        "total_makan = harga_makan * jumlah_makan\n",
        "\n",
        "print(f\"Harga makan per porsi = {harga_makan}, totalnya adalah {total_makan}\")\n",
        "\n",
        "\n"
      ],
      "metadata": {
        "colab": {
          "base_uri": "https://localhost:8080/"
        },
        "id": "HjMMm1TexGV7",
        "outputId": "3c9c8ee0-ee13-4414-c9f1-b67550acf181"
      },
      "execution_count": null,
      "outputs": [
        {
          "output_type": "stream",
          "name": "stdout",
          "text": [
            "Berapa harga nasi kebuli per porsi? 50000\n",
            "Berapa porsi yang Anda beli? 5\n",
            "Harga makan per porsi = 50000, totalnya adalah 250000\n"
          ]
        }
      ]
    },
    {
      "cell_type": "code",
      "source": [
        "# Praktikum 4\n",
        "\n",
        "# Operator Aritmetika +-\n",
        "# Konversi Total Detik\n",
        "# Konversi Waktu\n",
        "total_detik =int(input(\"Masukkan total detik: \"))\n",
        "jam = total_detik // 3600\n",
        "sisa_detik = total_detik % 3600\n",
        "menit = sisa_detik // 60\n",
        "detik = sisa_detik % 60\n",
        "\n",
        "print(f\"hasil Konversi:  {jam} Jam, {menit} Menit, {detik} Detik\")"
      ],
      "metadata": {
        "colab": {
          "base_uri": "https://localhost:8080/"
        },
        "id": "OM5NibR-1BQh",
        "outputId": "6a673f67-fd5c-419d-9f59-e6d24f1e4139"
      },
      "execution_count": null,
      "outputs": [
        {
          "output_type": "stream",
          "name": "stdout",
          "text": [
            "Masukkan total detik: 358200\n",
            "hasil Konversi:  99 Jam, 30 Menit, 0 Detik\n"
          ]
        }
      ]
    },
    {
      "cell_type": "code",
      "source": [
        "# Praktik 5\n",
        "# Input nilai mahasiswa\n",
        "tugas = int(input(\"Masukkan nilai Tugas: \"))\n",
        "uts = int(input(\"Masukkan nilai UTS: \"))\n",
        "uas = int(input(\"Masukkan nilai UAS: \"))\n",
        "kuis = int(input(\"Masukkan nilai Kuis: \"))\n",
        "praktikum = int(input(\"Masukkan nilai Praktikum: \"))\n",
        "\n",
        "# Hitung nilai akhir (bisa disesuaikan bobotnya)\n",
        "nilai_akhir = (0.2 * tugas) + (0.2 * uts) + (0.3 * uas) + (0.15 * kuis) + (0.15 * praktikum)\n",
        "standar_kelulusan = int(input(\"Masukkan standar kelulusan: \"))\n",
        "\n",
        "# Logika kelulusan\n",
        "apakah_lulus = nilai_akhir >= standar_kelulusan\n",
        "perlu_remedial = nilai_akhir < standar_kelulusan\n",
        "\n",
        "# Output\n",
        "print(f\"\\nNilai Akhir Mahasiswa: {nilai_akhir}\")\n",
        "print(f\"Standar Kelulusan: {standar_kelulusan}\")\n",
        "print(f\"Apakah Mahasiswa Lulus? {apakah_lulus}\")\n",
        "print(f\"Perlu Remedial? {perlu_remedial}\")"
      ],
      "metadata": {
        "colab": {
          "base_uri": "https://localhost:8080/"
        },
        "id": "B9h9ap0z3_4Y",
        "outputId": "e9dd96a0-7b60-44cf-bb6a-c844e006b97f"
      },
      "execution_count": null,
      "outputs": [
        {
          "output_type": "stream",
          "name": "stdout",
          "text": [
            "Masukkan nilai Tugas: 75\n",
            "Masukkan nilai UTS: 85\n",
            "Masukkan nilai UAS: 80\n",
            "Masukkan nilai Kuis: 90\n",
            "Masukkan nilai Praktikum: 75\n",
            "Masukkan standar kelulusan: 75\n",
            "\n",
            "Nilai Akhir Mahasiswa: 80.75\n",
            "Standar Kelulusan: 75\n",
            "Apakah Mahasiswa Lulus? True\n",
            "Perlu Remedial? False\n"
          ]
        }
      ]
    },
    {
      "cell_type": "code",
      "source": [
        "# Praktikum 6\n",
        "# Input belanja dari keyboard\n",
        "belanja = int(input(\"Masukkan total belanja: \"))\n",
        "\n",
        "# Hitung diskon dengan trik boolean\n",
        "diskon = (0.35 * belanja) * (belanja > 1000000) + (0.1 * belanja) * ((belanja > 500000) and (belanja <= 1000000))\n",
        "\n",
        "# Hitung total harga\n",
        "total_harga = belanja - diskon\n",
        "\n",
        "# Output\n",
        "print(f\"Total belanja = {belanja}\")\n",
        "print(f\"Diskon = {diskon}\")\n",
        "print(f\"Total harga setelah diskon = {total_harga}\")"
      ],
      "metadata": {
        "colab": {
          "base_uri": "https://localhost:8080/"
        },
        "id": "IHUIit_v79lY",
        "outputId": "b853f4b0-f808-4ad1-891e-fcc992cf842e"
      },
      "execution_count": null,
      "outputs": [
        {
          "output_type": "stream",
          "name": "stdout",
          "text": [
            "Masukkan total belanja: 1000000\n",
            "Total belanja = 1000000\n",
            "Diskon = 100000.0\n",
            "Total harga setelah diskon = 900000.0\n"
          ]
        }
      ]
    }
  ]
}